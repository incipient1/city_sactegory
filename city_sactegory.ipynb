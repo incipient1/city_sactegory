{
 "cells": [
  {
   "cell_type": "markdown",
   "metadata": {},
   "source": [
    "# 获取城市名单"
   ]
  },
  {
   "cell_type": "code",
   "execution_count": 1,
   "metadata": {
    "collapsed": true
   },
   "outputs": [],
   "source": [
    "import requests\n",
    "import pyquery\n",
    "import re\n",
    "import pandas as pd\n",
    "import random"
   ]
  },
  {
   "cell_type": "code",
   "execution_count": 2,
   "metadata": {
    "collapsed": true
   },
   "outputs": [],
   "source": [
    "user_agent = 'Mozilla/5.0 (compatible; Baiduspider/2.0; +http://www.baidu.com/search/spider.html)'\n",
    "url = 'http://data.acmr.com.cn/member/city/city_md.asp'\n",
    "headers = {'User-Agent':user_agent}\n",
    "r1 = requests.get(url = url,headers = headers)"
   ]
  },
  {
   "cell_type": "code",
   "execution_count": 3,
   "metadata": {
    "collapsed": true
   },
   "outputs": [],
   "source": [
    "r1.encoding = 'gbk'\n",
    "pq = pyquery.PyQuery(r1.text)\n",
    "maintext_tag = pq('body > font > table > tr > td > table > tr > td > table > tr > td > table > tr > td > table > tr > td > table.maintext') "
   ]
  },
  {
   "cell_type": "code",
   "execution_count": 4,
   "metadata": {
    "collapsed": true
   },
   "outputs": [],
   "source": [
    "city_super = maintext_tag.eq(0).text()\n",
    "city_super = city_super.strip(r'[TOP]').split(':')[1].split(' ')[1:-1]"
   ]
  },
  {
   "cell_type": "code",
   "execution_count": 5,
   "metadata": {
    "collapsed": true
   },
   "outputs": [],
   "source": [
    "city_metro = maintext_tag.eq(1).text()\n",
    "city_metro = city_metro.strip(r'[TOP]').split(':')[1].split(' ')[1:-1]"
   ]
  },
  {
   "cell_type": "code",
   "execution_count": 6,
   "metadata": {
    "collapsed": true
   },
   "outputs": [],
   "source": [
    "city_big = maintext_tag.eq(2).text()\n",
    "city_big = city_big.strip(r'[TOP]').split(':')[1].split(' ')[1:-1]"
   ]
  },
  {
   "cell_type": "code",
   "execution_count": 7,
   "metadata": {
    "collapsed": true
   },
   "outputs": [],
   "source": [
    "city_middle = maintext_tag.eq(3).text()\n",
    "city_middle = city_middle.strip(r'[TOP]').split(':')[1].split(' ')[1:-1]"
   ]
  },
  {
   "cell_type": "code",
   "execution_count": 8,
   "metadata": {
    "collapsed": true
   },
   "outputs": [],
   "source": [
    "city_small = maintext_tag.eq(4).text()\n",
    "city_small = city_small.strip(r'[TOP]').split(':')"
   ]
  },
  {
   "cell_type": "code",
   "execution_count": 9,
   "metadata": {
    "collapsed": true
   },
   "outputs": [],
   "source": [
    "city_small_list = city_small[1].strip(r'县级市').split(' ')[1:-1]\n",
    "city_small_list.extend(city_small[2].split(' ')[1:-1])"
   ]
  },
  {
   "cell_type": "code",
   "execution_count": 10,
   "metadata": {
    "collapsed": true
   },
   "outputs": [],
   "source": [
    "population = ['超大','特大','大','中等','小']\n",
    "city_list = [city_super,city_metro,city_big,city_middle,city_small_list]\n",
    "with open('city_info.csv',mode = 'w',encoding = 'utf-8') as city_info:\n",
    "    city_info.write('city,population\\n')\n",
    "    \n",
    "    for i in range(len(city_list)):\n",
    "        cities = city_list[i]\n",
    "        for city in cities:\n",
    "            city_info.write('{},{}\\n'.format(city,population[i]))"
   ]
  },
  {
   "cell_type": "markdown",
   "metadata": {},
   "source": [
    "# 数据清洗"
   ]
  },
  {
   "cell_type": "code",
   "execution_count": 11,
   "metadata": {
    "collapsed": true
   },
   "outputs": [],
   "source": [
    "city_df = pd.read_csv('city_info.csv')"
   ]
  },
  {
   "cell_type": "code",
   "execution_count": 12,
   "metadata": {
    "collapsed": true
   },
   "outputs": [],
   "source": [
    "city_df['province'] = city_df.city.str.extract(r'(.+?)省',expand=False)\n",
    "\n",
    "province_other = ['北京市','天津市','上海市','重庆市','内蒙','新疆','广西','宁夏','西藏']\n",
    "for i in province_other:\n",
    "    city_df.loc[city_df.city.str.contains(i),'province'] = i"
   ]
  },
  {
   "cell_type": "code",
   "execution_count": 26,
   "metadata": {
    "collapsed": true
   },
   "outputs": [],
   "source": [
    "city_df['name'] = city_df['city'].str.extract(r'(.+?)市',expand=False)\n",
    "city_df['Name'] = city_df['name']\n",
    "city_df.loc[city_df['Name'].str.contains('省'),'name'] = city_df['name'].str.extract(r'省(.+)',expand=False)   \n",
    "for i in province_other:\n",
    "    city_df.loc[city_df.name.str.contains(i),'name'] = city_df.name.str.replace(i,'') \n",
    "\n",
    "\n",
    "city_df = city_df[['city','population','province','name']]\n",
    "city_df.index.name = 'id'"
   ]
  },
  {
   "cell_type": "code",
   "execution_count": 27,
   "metadata": {
    "collapsed": true
   },
   "outputs": [],
   "source": [
    "city_df['name_first'] = city_df.name.str.extract(r'(^.{1})',expand=False)\n",
    "city_df['name_last'] = city_df.name.str.extract(r'(.{1}$)',expand=False)"
   ]
  },
  {
   "cell_type": "code",
   "execution_count": 15,
   "metadata": {
    "collapsed": true
   },
   "outputs": [],
   "source": [
    "def chinese_to_py(a):\n",
    "    a = str(a.encode('unicode_escape'))[-5:-1].upper()\n",
    "    b = dic_py[a]\n",
    "    return b            "
   ]
  },
  {
   "cell_type": "code",
   "execution_count": 16,
   "metadata": {
    "collapsed": true
   },
   "outputs": [],
   "source": [
    "dic_py = {}\n",
    "with open('unicode_py.txt','r') as f:\n",
    "    for i in f.readlines():\n",
    "        dic_py[i.split()[0]] = i.split()[1]"
   ]
  },
  {
   "cell_type": "code",
   "execution_count": 28,
   "metadata": {
    "collapsed": true
   },
   "outputs": [],
   "source": [
    "name_first_py_list = []\n",
    "for a in city_df['name_first']:\n",
    "    name_first_py_list.append(chinese_to_py(a))\n",
    "    \n",
    "city_df['name_first_py'] = pd.Series(name_first_py_list)"
   ]
  },
  {
   "cell_type": "code",
   "execution_count": 29,
   "metadata": {
    "collapsed": true
   },
   "outputs": [],
   "source": [
    "name_last_py_list = []\n",
    "for a in city_df['name_last']:\n",
    "    name_last_py_list.append(chinese_to_py(a))\n",
    "    \n",
    "city_df['name_last_py'] = pd.Series(name_last_py_list)"
   ]
  },
  {
   "cell_type": "markdown",
   "metadata": {},
   "source": [
    "# 游戏"
   ]
  },
  {
   "cell_type": "code",
   "execution_count": 19,
   "metadata": {
    "collapsed": true
   },
   "outputs": [],
   "source": [
    "def get_basic(name_city):\n",
    "    return city_df.loc[city_df['name'] == name_city,['population','province','name']] "
   ]
  },
  {
   "cell_type": "code",
   "execution_count": 20,
   "metadata": {
    "collapsed": true
   },
   "outputs": [],
   "source": [
    "def get_info(name_city):\n",
    "    url_city = 'https://baike.baidu.com/item/{}'.format(name_city)\n",
    "    r2 = requests.get(url = url_city,headers = headers)\n",
    "    r2.encoding = 'utf-8'\n",
    "    pq2 = pyquery.PyQuery(r2.text)\n",
    "    return name_city,pq2('body > div > div > div > div > div > div').text().split(name_city,1)[1] "
   ]
  },
  {
   "cell_type": "code",
   "execution_count": 22,
   "metadata": {
    "collapsed": true
   },
   "outputs": [],
   "source": [
    "def show(val):\n",
    "    color = 'green'\n",
    "    return 'color:s%'% color"
   ]
  },
  {
   "cell_type": "code",
   "execution_count": 30,
   "metadata": {},
   "outputs": [
    {
     "name": "stdout",
     "output_type": "stream",
     "text": [
      "请输入开始城市：北京\n",
      "['荆州' '景德镇' '荆门' '靖江' '井冈山' '景洪']\n",
      "接龙城市:荆门\n",
      "请按以下提示继续:\n",
      "c：继续游戏\n",
      "t：停止游戏\n",
      "b：城市基本信息\n",
      "i：详细信息\n",
      "b\n",
      "    population province name\n",
      "id                          \n",
      "145         中等       湖北   荆门\n",
      "['孟州']\n",
      "接龙城市:孟州\n",
      "请按以下提示继续:\n",
      "c：继续游戏\n",
      "t：停止游戏\n",
      "b：城市基本信息\n",
      "i：详细信息\n",
      "t\n",
      "游戏停止\n"
     ]
    }
   ],
   "source": [
    "name_city = input('请输入开始城市：')\n",
    "def game_continue(name_city):\n",
    "    name_last_py = city_df.loc[city_df['name'] == name_city,'name_last_py']\n",
    "    name_last_py = name_last_py.values[0][:-1]\n",
    "\n",
    "    name_last = city_df.loc[city_df['name_first_py'].str.contains(name_last_py),'name'].values\n",
    "    print(name_last)\n",
    "    if name_last.any(0):\n",
    "        name_city = random.choice(list(name_last))\n",
    "        print('接龙城市:{}'.format(name_city))\n",
    "        user_input = input('请按以下提示继续:\\nc：继续游戏\\nt：停止游戏\\nb：城市基本信息\\ni：详细信息\\n')    \n",
    "        if user_input == 'c':\n",
    "            name_city = name_city\n",
    "            game_continue(name_city)\n",
    "        elif user_input == 't':\n",
    "            print('游戏停止')\n",
    "            return None\n",
    "        elif user_input == 'b':\n",
    "            print(get_basic(name_city))\n",
    "            game_continue(name_city)\n",
    "        elif user_input == 'i':\n",
    "            print(get_info(name_city))\n",
    "            game_continue(name_city)\n",
    "        \n",
    "        else:\n",
    "            print('输入不正确，游戏结束')\n",
    "            return None\n",
    "    else:\n",
    "        print('无可接龙的城市，本次游戏结束')\n",
    "        return None\n",
    "\n",
    "game_continue(name_city)"
   ]
  }
 ],
 "metadata": {
  "kernelspec": {
   "display_name": "Python 3",
   "language": "python",
   "name": "python3"
  },
  "language_info": {
   "codemirror_mode": {
    "name": "ipython",
    "version": 3
   },
   "file_extension": ".py",
   "mimetype": "text/x-python",
   "name": "python",
   "nbconvert_exporter": "python",
   "pygments_lexer": "ipython3",
   "version": "3.5.4"
  }
 },
 "nbformat": 4,
 "nbformat_minor": 2
}
