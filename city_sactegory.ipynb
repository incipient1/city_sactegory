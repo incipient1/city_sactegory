{
 "cells": [
  {
   "cell_type": "markdown",
   "metadata": {},
   "source": [
    "# 获取城市名单"
   ]
  },
  {
   "cell_type": "code",
   "execution_count": 79,
   "metadata": {
    "collapsed": true
   },
   "outputs": [],
   "source": [
    "import requests\n",
    "import pyquery\n",
    "import re\n",
    "import pandas as pd\n",
    "import random"
   ]
  },
  {
   "cell_type": "code",
   "execution_count": 80,
   "metadata": {
    "collapsed": true
   },
   "outputs": [],
   "source": [
    "user_agent = 'Mozilla/5.0 (compatible; Baiduspider/2.0; +http://www.baidu.com/search/spider.html)'\n",
    "url = 'http://data.acmr.com.cn/member/city/city_md.asp'\n",
    "headers = {'User-Agent':user_agent}\n",
    "r1 = requests.get(url = url,headers = headers)"
   ]
  },
  {
   "cell_type": "code",
   "execution_count": 81,
   "metadata": {
    "collapsed": true
   },
   "outputs": [],
   "source": [
    "r1.encoding = 'gbk'"
   ]
  },
  {
   "cell_type": "code",
   "execution_count": 82,
   "metadata": {
    "collapsed": true
   },
   "outputs": [],
   "source": [
    "pq = pyquery.PyQuery(r1.text)"
   ]
  },
  {
   "cell_type": "code",
   "execution_count": 83,
   "metadata": {
    "collapsed": true
   },
   "outputs": [],
   "source": [
    "maintext_tag = pq('body > font > table > tr > td > table > tr > td > table > tr > td > table > tr > td > table > tr > td > table.maintext') "
   ]
  },
  {
   "cell_type": "code",
   "execution_count": 84,
   "metadata": {},
   "outputs": [],
   "source": [
    "city_super = maintext_tag.eq(0).text()"
   ]
  },
  {
   "cell_type": "code",
   "execution_count": 85,
   "metadata": {},
   "outputs": [],
   "source": [
    "city_super = city_super.strip(r'[TOP]').split(':')[1].split(' ')[1:-1]"
   ]
  },
  {
   "cell_type": "code",
   "execution_count": 86,
   "metadata": {},
   "outputs": [],
   "source": [
    "city_metro = maintext_tag.eq(1).text()"
   ]
  },
  {
   "cell_type": "code",
   "execution_count": 87,
   "metadata": {},
   "outputs": [],
   "source": [
    "city_metro = city_metro.strip(r'[TOP]').split(':')[1].split(' ')[1:-1]"
   ]
  },
  {
   "cell_type": "code",
   "execution_count": 88,
   "metadata": {},
   "outputs": [
    {
     "data": {
      "text/plain": [
       "22"
      ]
     },
     "execution_count": 88,
     "metadata": {},
     "output_type": "execute_result"
    }
   ],
   "source": [
    "len(city_metro)"
   ]
  },
  {
   "cell_type": "code",
   "execution_count": 89,
   "metadata": {
    "collapsed": true
   },
   "outputs": [],
   "source": [
    "city_big = maintext_tag.eq(2).text()"
   ]
  },
  {
   "cell_type": "code",
   "execution_count": 90,
   "metadata": {
    "scrolled": true
   },
   "outputs": [],
   "source": [
    "city_big = city_big.strip(r'[TOP]').split(':')[1].split(' ')[1:-1]"
   ]
  },
  {
   "cell_type": "code",
   "execution_count": 91,
   "metadata": {},
   "outputs": [
    {
     "data": {
      "text/plain": [
       "('内蒙', '广西', '宁夏')"
      ]
     },
     "execution_count": 91,
     "metadata": {},
     "output_type": "execute_result"
    }
   ],
   "source": [
    "'内蒙','广西','宁夏'"
   ]
  },
  {
   "cell_type": "code",
   "execution_count": 92,
   "metadata": {},
   "outputs": [],
   "source": [
    "city_middle = maintext_tag.eq(3).text()\n",
    "city_middle = city_middle.strip(r'[TOP]').split(':')[1].split(' ')[1:-1]"
   ]
  },
  {
   "cell_type": "code",
   "execution_count": 93,
   "metadata": {},
   "outputs": [],
   "source": [
    "city_small = maintext_tag.eq(4).text()"
   ]
  },
  {
   "cell_type": "code",
   "execution_count": 94,
   "metadata": {},
   "outputs": [],
   "source": [
    "city_small = city_small.strip(r'[TOP]').split(':')"
   ]
  },
  {
   "cell_type": "code",
   "execution_count": 95,
   "metadata": {},
   "outputs": [],
   "source": [
    "city_small_list = city_small[1].strip(r'县级市').split(' ')[1:-1]\n",
    "city_small_list.extend(city_small[2].split(' ')[1:-1])"
   ]
  },
  {
   "cell_type": "code",
   "execution_count": 96,
   "metadata": {
    "collapsed": true
   },
   "outputs": [],
   "source": [
    "population = ['超大','特大','大','中等','小']\n",
    "city_list = [city_super,city_metro,city_big,city_middle,city_small_list]\n",
    "with open('city_info.csv',mode = 'w',encoding = 'utf-8') as city_info:\n",
    "    city_info.write('city,population\\n')\n",
    "    \n",
    "    for i in range(len(city_list)):\n",
    "        cities = city_list[i]\n",
    "        for city in cities:\n",
    "            city_info.write('{},{}\\n'.format(city,population[i]))"
   ]
  },
  {
   "cell_type": "markdown",
   "metadata": {},
   "source": [
    "# 数据清洗"
   ]
  },
  {
   "cell_type": "code",
   "execution_count": 97,
   "metadata": {
    "collapsed": true
   },
   "outputs": [],
   "source": [
    "city_df = pd.read_csv('city_info.csv')"
   ]
  },
  {
   "cell_type": "code",
   "execution_count": 98,
   "metadata": {
    "collapsed": true
   },
   "outputs": [],
   "source": [
    "city_df['province'] = city_df.city.str.extract(r'(.+?)省',expand=False)\n",
    "\n",
    "province_other = ['北京市','天津市','上海市','重庆市','内蒙','新疆','广西','宁夏','西藏']\n",
    "for i in province_other:\n",
    "    city_df.loc[city_df.city.str.contains(i),'province'] = i"
   ]
  },
  {
   "cell_type": "code",
   "execution_count": 99,
   "metadata": {},
   "outputs": [],
   "source": [
    "city_df['name'] = city_df['city'].str.extract(r'(.+?)市',expand=False)\n",
    "city_df['Name'] = city_df['name']\n",
    "city_df.loc[city_df['Name'].str.contains('省'),'name'] = city_df['name'].str.extract(r'省(.+)',expand=False)   \n",
    "for i in province_other:\n",
    "    city_df.loc[city_df.name.str.contains(i),'name'] = city_df.name.str.replace(i,'') \n",
    "\n",
    "\n",
    "city_df = city_df[['city','population','province','name']]"
   ]
  },
  {
   "cell_type": "code",
   "execution_count": 100,
   "metadata": {},
   "outputs": [],
   "source": [
    "city_df['name_first'] = city_df.name.str.extract(r'(^.{1})',expand=False)\n",
    "city_df['name_last'] = city_df.name.str.extract(r'(.{1}$)',expand=False)"
   ]
  },
  {
   "cell_type": "code",
   "execution_count": 101,
   "metadata": {
    "collapsed": true
   },
   "outputs": [],
   "source": [
    "def chinese_to_py(a):\n",
    "    a = str(a.encode('unicode_escape'))[-5:-1].upper()\n",
    "    b = dic_py[a]\n",
    "    return b            "
   ]
  },
  {
   "cell_type": "code",
   "execution_count": 102,
   "metadata": {
    "collapsed": true
   },
   "outputs": [],
   "source": [
    "dic_py = {}\n",
    "with open('unicode_py.txt','r') as f:\n",
    "    for i in f.readlines():\n",
    "        dic_py[i.split()[0]] = i.split()[1]"
   ]
  },
  {
   "cell_type": "code",
   "execution_count": 103,
   "metadata": {},
   "outputs": [],
   "source": [
    "name_first_py_list = []\n",
    "for a in city_df['name_first']:\n",
    "    name_first_py_list.append(chinese_to_py(a))\n",
    "    \n",
    "city_df['name_first_py'] = pd.Series(name_first_py_list)"
   ]
  },
  {
   "cell_type": "code",
   "execution_count": 104,
   "metadata": {},
   "outputs": [],
   "source": [
    "name_last_py_list = []\n",
    "for a in city_df['name_last']:\n",
    "    name_last_py_list.append(chinese_to_py(a))\n",
    "    \n",
    "city_df['name_last_py'] = pd.Series(name_last_py_list)"
   ]
  },
  {
   "cell_type": "markdown",
   "metadata": {},
   "source": [
    "# 游戏"
   ]
  },
  {
   "cell_type": "code",
   "execution_count": 105,
   "metadata": {},
   "outputs": [],
   "source": [
    "def get_basic(name_city):\n",
    "    return city_df.loc[city_df['name'] == name_city,['population','province','name']] "
   ]
  },
  {
   "cell_type": "code",
   "execution_count": 106,
   "metadata": {},
   "outputs": [],
   "source": [
    "def get_info(name_city):\n",
    "    url_city = 'https://baike.baidu.com/item/{}'.format(name_city)\n",
    "    r2 = requests.get(url = url_city,headers = headers)\n",
    "    r2.encoding = 'utf-8'\n",
    "    pq2 = pyquery.PyQuery(r2.text)\n",
    "    return name_city,pq2('body > div > div > div > div > div > div').text().split(name_city,1)[1] "
   ]
  },
  {
   "cell_type": "code",
   "execution_count": 108,
   "metadata": {},
   "outputs": [
    {
     "name": "stdout",
     "output_type": "stream",
     "text": [
      "请输入开始城市：北京\n",
      "['荆州' '景德镇' '荆门' '靖江' '井冈山' '景洪']\n",
      "接龙城市:荆州\n",
      "请按以下提示继续:\n",
      "c：继续游戏\n",
      "t：停止游戏\n",
      "b：城市基本信息\n",
      "i：详细信息\n",
      "i\n",
      "('荆州', '，古时又称“ 江陵 ”， 湖北省 地级市，位于湖北中南部、 长江 中游、 江汉平原 腹地，全市国土面积1.41万平方公里，总人口达690万（2017年），下辖荆州区、沙市区、江陵县、松滋市、公安县、石首市、监利县、洪湖市8个县市区和荆州开发区、华中农高区、纪南文旅区3个功能区。荆州是春秋战国时 楚国 都城所在地，是国务院公布的全国首批24座 国家历史文化名城 之一、 中国优秀旅游城市 、 国家园林城市 、重要的公路 交通枢纽 和长江港口城市。 [1] 2017年6月，荆州市被命名国家卫生城市。 [2] 荆州历史厚重、文化灿烂，是一座古老文化与现代文明交相辉映的滨江城市。“禹划九州，始有荆州。”荆州建城历史长达3000多年。自公元前689年楚国建都 纪南城 ，先后有6个朝代、34位帝王在此建都，是当之无愧的“ 帝王之都 ”。从“天下第一循吏” 孙叔敖 到明朝万历首辅 张居正 ，从荆州走出去的宰相达138位，是名副其实的“宰相之城”。从爱国主义诗人 屈原 到 李白 、 杜甫 ，大批文人墨客在荆州吟诗作赋，也是实至名归的“诗词之市”。 [1] 荆州科教资源丰富，是湖北第二大人才密集地，拥有科研院所300多家，高等院校8所，院士专家工作站50个。2016年，荆州全市 地区生产总值 （GDP）为1726 . 8亿元、增长7.3%，总量居全省第四位。 [1] 目录 1 历史沿革 ▪ 古代 ▪ 近代 2 行政区划 3 地理环境 ▪ 位置 ▪ 地形 ▪ 气候 4 自然资源 ▪ 矿产资源 ▪ 水资源 ▪ 土地资源 ▪ 生物资源 5 人口民族 ▪ 人口 ▪ 民族 6 政治体制 7 经济概况 ▪ 综合 ▪ 第一产业 ▪ 第二产业 ▪ 第三产业 8 社会事业 ▪ 文化 ▪ 城建 ▪ 教育 ▪ 卫生 ▪ 科技 ▪ 社保 9 历史文化 ▪ 精神 ▪ 民俗 ▪ 美食 ▪ 方言 10 旅游名胜 11 著名人物 12 城市荣誉 13 友好城市 文化名城——荆州 荆州城区 凤凰涅槃——荆州城 荆州长江大桥 省属重点大学——长江大学 荆州花鼓戏 词条图册 更多图册 解读词条背后的知识 无风起念 文史研究者，寻觅史书情怀 刘备占据的荆州本就不属东吴，为何孙权还理直气壮地向刘备索要？ 中国有句流传很广的歇后语：“刘备借荆州——有借无还。”用来告诫那种言而无信的人，不要学习大耳贼，借人东西不还。然而历史上，刘备并不是真的借了荆州之后不愿意归还，而刘备占据的荆州本就不属于东吴，但是孙权他们却说是借给刘备的。这究竟又是怎么一回事呢？历史上荆州原有七郡，包括荆南... 2018-04-02 13 阅读 1823 词条标签： V百科 往期回顾 1 历史沿革 1.1 古代 1.2 近代 2 行政区划 3 地理环境 3.1 位置 3.2 地形 3.3 气候 4 自然资源 4.1 矿产资源 4.2 水资源 4.3 土地资源 4.4 生物资源 5 人口民族 5.1 人口 5.2 民族 6 政治体制 7 经济概况 7.1 综合 7.2 第一产业 7.3 第二产业 7.4 第三产业 8 社会事业 8.1 文化 8.2 城建 8.3 教育 8.4 卫生 8.5 科技 8.6 社保 9 历史文化 9.1 精神 9.2 民俗 9.3 美食 9.4 方言 10 旅游名胜 11 著名人物 12 城市荣誉 13 友好城市')\n",
      "['舟山' '周口']\n",
      "接龙城市:舟山\n",
      "请按以下提示继续:\n",
      "c：继续游戏\n",
      "t：停止游戏\n",
      "b：城市基本信息\n",
      "i：详细信息\n",
      "c\n",
      "['上海' '汕头' '商丘' '汕尾' '尚志' '上虞' '上饶' '商州']\n",
      "接龙城市:商丘\n",
      "请按以下提示继续:\n",
      "c：继续游戏\n",
      "t：停止游戏\n",
      "b：城市基本信息\n",
      "i：详细信息\n",
      "c\n",
      "[]\n",
      "无可接龙的城市，游戏结束\n"
     ]
    }
   ],
   "source": [
    "name_city = input('请输入开始城市：')\n",
    "def game_continue(name_city):\n",
    "    name_last_py = city_df.loc[city_df['name'] == name_city,'name_last_py']\n",
    "    name_last_py = name_last_py.values[0][:-1]\n",
    "\n",
    "    name_last = city_df.loc[city_df['name_first_py'].str.contains(name_last_py),'name'].values\n",
    "    print(name_last)\n",
    "    if name_last.any(0):\n",
    "        name_city = random.choice(list(name_last))\n",
    "        print('接龙城市:{}'.format(name_city))\n",
    "        user_input = input('请按以下提示继续:\\nc：继续游戏\\nt：停止游戏\\nb：城市基本信息\\ni：详细信息\\n')    \n",
    "        if user_input == 'c':\n",
    "            name_city = name_city\n",
    "            game_continue(name_city)\n",
    "        elif user_input == 't':\n",
    "            print('游戏停止')\n",
    "            return None\n",
    "        elif user_input == 'b':\n",
    "            print(get_basic(name_city))\n",
    "            game_continue(name_city)\n",
    "        elif user_input == 'i':\n",
    "            print(get_info(name_city))\n",
    "            game_continue(name_city)\n",
    "        \n",
    "        else:\n",
    "            print('输入不正确，游戏结束')\n",
    "            return None\n",
    "    else:\n",
    "        print('无可接龙的城市，游戏结束')\n",
    "        return None\n",
    "\n",
    "game_continue(name_city)"
   ]
  }
 ],
 "metadata": {
  "kernelspec": {
   "display_name": "Python 3",
   "language": "python",
   "name": "python3"
  },
  "language_info": {
   "codemirror_mode": {
    "name": "ipython",
    "version": 3
   },
   "file_extension": ".py",
   "mimetype": "text/x-python",
   "name": "python",
   "nbconvert_exporter": "python",
   "pygments_lexer": "ipython3",
   "version": "3.5.4"
  }
 },
 "nbformat": 4,
 "nbformat_minor": 2
}
